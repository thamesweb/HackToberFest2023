{
 "cells": [
  {
   "cell_type": "markdown",
   "id": "outdoor-storm",
   "metadata": {},
   "source": [
    "### Check_List_Sorted_Using_Recursion"
   ]
  },
  {
   "cell_type": "code",
   "execution_count": 4,
   "id": "billion-valentine",
   "metadata": {},
   "outputs": [],
   "source": [
    "def isSorted(a, si):\n",
    "    l = len(a)\n",
    "    if si == l-1 or si == l:\n",
    "        return True\n",
    "    if a[si] > a[si + 1]:\n",
    "        return False\n",
    "    return isSorted(a, si + 1)"
   ]
  },
  {
   "cell_type": "code",
   "execution_count": 8,
   "id": "seasonal-kelly",
   "metadata": {
    "scrolled": true
   },
   "outputs": [
    {
     "data": {
      "text/plain": [
       "True"
      ]
     },
     "execution_count": 8,
     "metadata": {},
     "output_type": "execute_result"
    }
   ],
   "source": [
    "a = [1, 2, 3, 4, 5, 6, 7, 8, 9]\n",
    "isSorted(a, 0)"
   ]
  },
  {
   "cell_type": "markdown",
   "id": "stopped-prairie",
   "metadata": {},
   "source": [
    "### First_Index_of_Number_using_Recursion_with_copied_list"
   ]
  },
  {
   "cell_type": "code",
   "execution_count": 2,
   "id": "radical-raleigh",
   "metadata": {},
   "outputs": [],
   "source": [
    "def firstIndex(a, x):\n",
    "    l = len(a)\n",
    "    if l == 0:\n",
    "        return -1\n",
    "    if a[0] == x:\n",
    "        return 0\n",
    "    \n",
    "    shorterList = a[1:]\n",
    "    shorterListOutput = firstIndex(shorterList, x)\n",
    "    if shorterListOutput == -1:\n",
    "        return -1\n",
    "    else:\n",
    "        return shorterListOutput + 1"
   ]
  },
  {
   "cell_type": "markdown",
   "id": "certain-contrary",
   "metadata": {},
   "source": [
    "### First_Index_of_number_using_recursion_without_creating_copied_list"
   ]
  },
  {
   "cell_type": "code",
   "execution_count": 5,
   "id": "nasty-negative",
   "metadata": {},
   "outputs": [],
   "source": [
    "def firstIndexBetter(a, x, si):\n",
    "    l = len(a)\n",
    "    if si == l:\n",
    "        return -1\n",
    "    if a[si] == x:\n",
    "        return si\n",
    "    shorterListOutput = firstIndexBetter(a, x, si + 1)\n",
    "    \n",
    "    return shorterListOutput"
   ]
  },
  {
   "cell_type": "code",
   "execution_count": 7,
   "id": "nearby-documentary",
   "metadata": {},
   "outputs": [
    {
     "name": "stdout",
     "output_type": "stream",
     "text": [
      "5\n",
      "5\n"
     ]
    }
   ],
   "source": [
    "list = [1, 2, 4, 5, 6, 7, 8, 9, 7]\n",
    "print(firstIndex(list, 7))\n",
    "print(firstIndexBetter(list, 7, 0))"
   ]
  },
  {
   "cell_type": "markdown",
   "id": "japanese-reality",
   "metadata": {},
   "source": [
    "### Last_Index_of_number_using_recursion_with_copied_list"
   ]
  },
  {
   "cell_type": "code",
   "execution_count": 1,
   "id": "pressed-deputy",
   "metadata": {},
   "outputs": [],
   "source": [
    "def lastIndex(a, x):\n",
    "    l = len(a)\n",
    "    if l == 0:\n",
    "        return -1\n",
    "    shorterList = a[1:]\n",
    "    shorterListOutput = lastIndex(shorterList, x)\n",
    "    \n",
    "    if shorterListOutput == -1:\n",
    "        if a[0] == x:\n",
    "            return 0\n",
    "        else:\n",
    "            return -1\n",
    "    else:\n",
    "        return shorterListOutput + 1"
   ]
  },
  {
   "cell_type": "code",
   "execution_count": 3,
   "id": "offensive-cradle",
   "metadata": {},
   "outputs": [
    {
     "name": "stdout",
     "output_type": "stream",
     "text": [
      "6\n"
     ]
    }
   ],
   "source": [
    "list = [1, 2, 3, 4, 5, 3, 2, 7, 9]\n",
    "print(lastIndex(list, 2))"
   ]
  },
  {
   "cell_type": "markdown",
   "id": "controlled-evening",
   "metadata": {},
   "source": [
    "### Last_Index_of_number_using_recursion_without_copied_list"
   ]
  },
  {
   "cell_type": "code",
   "execution_count": 6,
   "id": "pursuant-porcelain",
   "metadata": {},
   "outputs": [],
   "source": [
    "def lastIndexBetter(a, x, si):\n",
    "    l = len(a)\n",
    "    if si == l:\n",
    "        return -1\n",
    "    \n",
    "    shorterListOutput = lastIndexBetter(a, x, si + 1)\n",
    "    if shorterListOutput == -1:\n",
    "        if a[si] == x:\n",
    "            return si\n",
    "        else:\n",
    "            return -1\n",
    "    else:\n",
    "        return shorterListOutput"
   ]
  },
  {
   "cell_type": "code",
   "execution_count": 7,
   "id": "taken-pakistan",
   "metadata": {},
   "outputs": [
    {
     "name": "stdout",
     "output_type": "stream",
     "text": [
      "6\n"
     ]
    }
   ],
   "source": [
    "list = [1, 2, 3, 4, 5, 3, 2, 7, 9]\n",
    "print(lastIndex(list, 2))"
   ]
  }
 ],
 "metadata": {
  "kernelspec": {
   "display_name": "Python 3",
   "language": "python",
   "name": "python3"
  },
  "language_info": {
   "codemirror_mode": {
    "name": "ipython",
    "version": 3
   },
   "file_extension": ".py",
   "mimetype": "text/x-python",
   "name": "python",
   "nbconvert_exporter": "python",
   "pygments_lexer": "ipython3",
   "version": "3.9.1"
  }
 },
 "nbformat": 4,
 "nbformat_minor": 5
}
